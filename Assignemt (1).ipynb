{
 "cells": [
  {
   "cell_type": "markdown",
   "id": "d1ab66e1-10c8-4334-a37a-47a03a041668",
   "metadata": {},
   "source": [
    "# **Fraud Detection Case Study**\n",
    "\n",
    "---\n",
    "\n",
    "## **1. Introduction**\n",
    "\n",
    "### 1.1 Project Overview\n",
    "In this case study, we explore a dataset of financial transactions to identify fraudulent activities. Fraud detection is crucial in the financial sector to prevent significant losses and ensure trust in digital payment systems. This project aims to analyze transaction patterns, engineer predictive features, and build models to detect fraudulent transactions effectively.\n",
    "\n",
    "### 1.2 Objectives and Goals\n",
    "The main objective is to develop a robust fraud detection model by:\n",
    "- Analyzing the transaction data to uncover patterns associated with fraud.\n",
    "- Building and evaluating predictive models to classify transactions as fraudulent or not.\n",
    "- Extracting insights that can help in understanding and preventing fraud.\n",
    "\n",
    "### 1.3 Dataset Source and Acknowledgments\n",
    "The dataset used for this analysis contains anonymized transaction data, which is publicly available for research purposes. It includes various transaction types such as payments, transfers, and cash withdrawals. \n",
    "\n",
    "---\n",
    "*step**: Represents\r\n"
   ]
  },
  {
   "cell_type": "code",
   "execution_count": 1,
   "id": "7e95bc57-5cf9-4e35-8dea-3f37ed179367",
   "metadata": {},
   "outputs": [
    {
     "data": {
      "text/html": [
       "<div>\n",
       "<style scoped>\n",
       "    .dataframe tbody tr th:only-of-type {\n",
       "        vertical-align: middle;\n",
       "    }\n",
       "\n",
       "    .dataframe tbody tr th {\n",
       "        vertical-align: top;\n",
       "    }\n",
       "\n",
       "    .dataframe thead th {\n",
       "        text-align: right;\n",
       "    }\n",
       "</style>\n",
       "<table border=\"1\" class=\"dataframe\">\n",
       "  <thead>\n",
       "    <tr style=\"text-align: right;\">\n",
       "      <th></th>\n",
       "      <th>step</th>\n",
       "      <th>type</th>\n",
       "      <th>amount</th>\n",
       "      <th>nameOrig</th>\n",
       "      <th>oldbalanceOrg</th>\n",
       "      <th>newbalanceOrig</th>\n",
       "      <th>nameDest</th>\n",
       "      <th>oldbalanceDest</th>\n",
       "      <th>newbalanceDest</th>\n",
       "      <th>isFraud</th>\n",
       "      <th>isFlaggedFraud</th>\n",
       "    </tr>\n",
       "  </thead>\n",
       "  <tbody>\n",
       "    <tr>\n",
       "      <th>0</th>\n",
       "      <td>1</td>\n",
       "      <td>PAYMENT</td>\n",
       "      <td>9839.64</td>\n",
       "      <td>C1231006815</td>\n",
       "      <td>170136.0</td>\n",
       "      <td>160296.36</td>\n",
       "      <td>M1979787155</td>\n",
       "      <td>0.0</td>\n",
       "      <td>0.0</td>\n",
       "      <td>0</td>\n",
       "      <td>0</td>\n",
       "    </tr>\n",
       "    <tr>\n",
       "      <th>1</th>\n",
       "      <td>1</td>\n",
       "      <td>PAYMENT</td>\n",
       "      <td>1864.28</td>\n",
       "      <td>C1666544295</td>\n",
       "      <td>21249.0</td>\n",
       "      <td>19384.72</td>\n",
       "      <td>M2044282225</td>\n",
       "      <td>0.0</td>\n",
       "      <td>0.0</td>\n",
       "      <td>0</td>\n",
       "      <td>0</td>\n",
       "    </tr>\n",
       "    <tr>\n",
       "      <th>2</th>\n",
       "      <td>1</td>\n",
       "      <td>TRANSFER</td>\n",
       "      <td>181.00</td>\n",
       "      <td>C1305486145</td>\n",
       "      <td>181.0</td>\n",
       "      <td>0.00</td>\n",
       "      <td>C553264065</td>\n",
       "      <td>0.0</td>\n",
       "      <td>0.0</td>\n",
       "      <td>1</td>\n",
       "      <td>0</td>\n",
       "    </tr>\n",
       "    <tr>\n",
       "      <th>3</th>\n",
       "      <td>1</td>\n",
       "      <td>CASH_OUT</td>\n",
       "      <td>181.00</td>\n",
       "      <td>C840083671</td>\n",
       "      <td>181.0</td>\n",
       "      <td>0.00</td>\n",
       "      <td>C38997010</td>\n",
       "      <td>21182.0</td>\n",
       "      <td>0.0</td>\n",
       "      <td>1</td>\n",
       "      <td>0</td>\n",
       "    </tr>\n",
       "    <tr>\n",
       "      <th>4</th>\n",
       "      <td>1</td>\n",
       "      <td>PAYMENT</td>\n",
       "      <td>11668.14</td>\n",
       "      <td>C2048537720</td>\n",
       "      <td>41554.0</td>\n",
       "      <td>29885.86</td>\n",
       "      <td>M1230701703</td>\n",
       "      <td>0.0</td>\n",
       "      <td>0.0</td>\n",
       "      <td>0</td>\n",
       "      <td>0</td>\n",
       "    </tr>\n",
       "  </tbody>\n",
       "</table>\n",
       "</div>"
      ],
      "text/plain": [
       "   step      type    amount     nameOrig  oldbalanceOrg  newbalanceOrig  \\\n",
       "0     1   PAYMENT   9839.64  C1231006815       170136.0       160296.36   \n",
       "1     1   PAYMENT   1864.28  C1666544295        21249.0        19384.72   \n",
       "2     1  TRANSFER    181.00  C1305486145          181.0            0.00   \n",
       "3     1  CASH_OUT    181.00   C840083671          181.0            0.00   \n",
       "4     1   PAYMENT  11668.14  C2048537720        41554.0        29885.86   \n",
       "\n",
       "      nameDest  oldbalanceDest  newbalanceDest  isFraud  isFlaggedFraud  \n",
       "0  M1979787155             0.0             0.0        0               0  \n",
       "1  M2044282225             0.0             0.0        0               0  \n",
       "2   C553264065             0.0             0.0        1               0  \n",
       "3    C38997010         21182.0             0.0        1               0  \n",
       "4  M1230701703             0.0             0.0        0               0  "
      ]
     },
     "execution_count": 1,
     "metadata": {},
     "output_type": "execute_result"
    }
   ],
   "source": [
    "import pandas as pd\n",
    "\n",
    "# Load the dataset\n",
    "df = pd.read_csv('Fraud.csv') \n",
    "\n",
    "# Display the first few rows of the dataset\n",
    "df.head()"
   ]
  },
  {
   "cell_type": "markdown",
   "id": "a0851a62-488e-4936-89f9-6134f1ac2367",
   "metadata": {},
   "source": [
    "## **2. Data Understanding and Preparation**\n",
    "\n",
    "### 2.1 Data Dictionary\n",
    "This section provides a brief description of each feature in the dataset:\n",
    "- **step**: A unit of time representing an hour within the dataset.\n",
    "- **type**: Type of transaction (e.g., `PAYMENT`, `TRANSFER`, `CASH_OUT`, etc.).\n",
    "- **amount**: The amount of money involved in the transaction, in local currency.\n",
    "- **nameOrig**: Identifier of the customer initiating the transaction.\n",
    "- **oldbalanceOrg**: Account balance of the initiator before the transaction.\n",
    "- **newbalanceOrig**: Account balance of the initiator after the transaction.\n",
    "- **nameDest**: Identifier of the recipient of the transaction.\n",
    "- **oldbalanceDest**: Account balance of the recipient before the transaction.\n",
    "- **newbalanceDest**: Account balance of the recipient after the transaction.\n",
    "- **isFraud**: Indicates if the transaction is fraudulent (`1` for fraud, `0` for non-fraud).\n",
    "- **isFlaggedFraud**: Indicates if the transaction is flagged as suspicious due to exceeding a certain threshold."
   ]
  },
  {
   "cell_type": "markdown",
   "id": "ec382693-b431-47e3-bcd7-6d5dc7f5f54c",
   "metadata": {},
   "source": [
    "### 2.2 Initial Data Inspection\n",
    "Load the dataset and examine its structure. Display the first few rows and obtain basic information on data types, null values, and summary statistics."
   ]
  },
  {
   "cell_type": "code",
   "execution_count": 3,
   "id": "50b68d28-7596-4241-9028-3d1d2576b374",
   "metadata": {},
   "outputs": [
    {
     "name": "stdout",
     "output_type": "stream",
     "text": [
      "<class 'pandas.core.frame.DataFrame'>\n",
      "RangeIndex: 6362620 entries, 0 to 6362619\n",
      "Data columns (total 11 columns):\n",
      " #   Column          Dtype  \n",
      "---  ------          -----  \n",
      " 0   step            int64  \n",
      " 1   type            object \n",
      " 2   amount          float64\n",
      " 3   nameOrig        object \n",
      " 4   oldbalanceOrg   float64\n",
      " 5   newbalanceOrig  float64\n",
      " 6   nameDest        object \n",
      " 7   oldbalanceDest  float64\n",
      " 8   newbalanceDest  float64\n",
      " 9   isFraud         int64  \n",
      " 10  isFlaggedFraud  int64  \n",
      "dtypes: float64(5), int64(3), object(3)\n",
      "memory usage: 534.0+ MB\n"
     ]
    },
    {
     "data": {
      "text/html": [
       "<div>\n",
       "<style scoped>\n",
       "    .dataframe tbody tr th:only-of-type {\n",
       "        vertical-align: middle;\n",
       "    }\n",
       "\n",
       "    .dataframe tbody tr th {\n",
       "        vertical-align: top;\n",
       "    }\n",
       "\n",
       "    .dataframe thead th {\n",
       "        text-align: right;\n",
       "    }\n",
       "</style>\n",
       "<table border=\"1\" class=\"dataframe\">\n",
       "  <thead>\n",
       "    <tr style=\"text-align: right;\">\n",
       "      <th></th>\n",
       "      <th>step</th>\n",
       "      <th>amount</th>\n",
       "      <th>oldbalanceOrg</th>\n",
       "      <th>newbalanceOrig</th>\n",
       "      <th>oldbalanceDest</th>\n",
       "      <th>newbalanceDest</th>\n",
       "      <th>isFraud</th>\n",
       "      <th>isFlaggedFraud</th>\n",
       "    </tr>\n",
       "  </thead>\n",
       "  <tbody>\n",
       "    <tr>\n",
       "      <th>count</th>\n",
       "      <td>6.362620e+06</td>\n",
       "      <td>6.362620e+06</td>\n",
       "      <td>6.362620e+06</td>\n",
       "      <td>6.362620e+06</td>\n",
       "      <td>6.362620e+06</td>\n",
       "      <td>6.362620e+06</td>\n",
       "      <td>6.362620e+06</td>\n",
       "      <td>6.362620e+06</td>\n",
       "    </tr>\n",
       "    <tr>\n",
       "      <th>mean</th>\n",
       "      <td>2.433972e+02</td>\n",
       "      <td>1.798619e+05</td>\n",
       "      <td>8.338831e+05</td>\n",
       "      <td>8.551137e+05</td>\n",
       "      <td>1.100702e+06</td>\n",
       "      <td>1.224996e+06</td>\n",
       "      <td>1.290820e-03</td>\n",
       "      <td>2.514687e-06</td>\n",
       "    </tr>\n",
       "    <tr>\n",
       "      <th>std</th>\n",
       "      <td>1.423320e+02</td>\n",
       "      <td>6.038582e+05</td>\n",
       "      <td>2.888243e+06</td>\n",
       "      <td>2.924049e+06</td>\n",
       "      <td>3.399180e+06</td>\n",
       "      <td>3.674129e+06</td>\n",
       "      <td>3.590480e-02</td>\n",
       "      <td>1.585775e-03</td>\n",
       "    </tr>\n",
       "    <tr>\n",
       "      <th>min</th>\n",
       "      <td>1.000000e+00</td>\n",
       "      <td>0.000000e+00</td>\n",
       "      <td>0.000000e+00</td>\n",
       "      <td>0.000000e+00</td>\n",
       "      <td>0.000000e+00</td>\n",
       "      <td>0.000000e+00</td>\n",
       "      <td>0.000000e+00</td>\n",
       "      <td>0.000000e+00</td>\n",
       "    </tr>\n",
       "    <tr>\n",
       "      <th>25%</th>\n",
       "      <td>1.560000e+02</td>\n",
       "      <td>1.338957e+04</td>\n",
       "      <td>0.000000e+00</td>\n",
       "      <td>0.000000e+00</td>\n",
       "      <td>0.000000e+00</td>\n",
       "      <td>0.000000e+00</td>\n",
       "      <td>0.000000e+00</td>\n",
       "      <td>0.000000e+00</td>\n",
       "    </tr>\n",
       "    <tr>\n",
       "      <th>50%</th>\n",
       "      <td>2.390000e+02</td>\n",
       "      <td>7.487194e+04</td>\n",
       "      <td>1.420800e+04</td>\n",
       "      <td>0.000000e+00</td>\n",
       "      <td>1.327057e+05</td>\n",
       "      <td>2.146614e+05</td>\n",
       "      <td>0.000000e+00</td>\n",
       "      <td>0.000000e+00</td>\n",
       "    </tr>\n",
       "    <tr>\n",
       "      <th>75%</th>\n",
       "      <td>3.350000e+02</td>\n",
       "      <td>2.087215e+05</td>\n",
       "      <td>1.073152e+05</td>\n",
       "      <td>1.442584e+05</td>\n",
       "      <td>9.430367e+05</td>\n",
       "      <td>1.111909e+06</td>\n",
       "      <td>0.000000e+00</td>\n",
       "      <td>0.000000e+00</td>\n",
       "    </tr>\n",
       "    <tr>\n",
       "      <th>max</th>\n",
       "      <td>7.430000e+02</td>\n",
       "      <td>9.244552e+07</td>\n",
       "      <td>5.958504e+07</td>\n",
       "      <td>4.958504e+07</td>\n",
       "      <td>3.560159e+08</td>\n",
       "      <td>3.561793e+08</td>\n",
       "      <td>1.000000e+00</td>\n",
       "      <td>1.000000e+00</td>\n",
       "    </tr>\n",
       "  </tbody>\n",
       "</table>\n",
       "</div>"
      ],
      "text/plain": [
       "               step        amount  oldbalanceOrg  newbalanceOrig  \\\n",
       "count  6.362620e+06  6.362620e+06   6.362620e+06    6.362620e+06   \n",
       "mean   2.433972e+02  1.798619e+05   8.338831e+05    8.551137e+05   \n",
       "std    1.423320e+02  6.038582e+05   2.888243e+06    2.924049e+06   \n",
       "min    1.000000e+00  0.000000e+00   0.000000e+00    0.000000e+00   \n",
       "25%    1.560000e+02  1.338957e+04   0.000000e+00    0.000000e+00   \n",
       "50%    2.390000e+02  7.487194e+04   1.420800e+04    0.000000e+00   \n",
       "75%    3.350000e+02  2.087215e+05   1.073152e+05    1.442584e+05   \n",
       "max    7.430000e+02  9.244552e+07   5.958504e+07    4.958504e+07   \n",
       "\n",
       "       oldbalanceDest  newbalanceDest       isFraud  isFlaggedFraud  \n",
       "count    6.362620e+06    6.362620e+06  6.362620e+06    6.362620e+06  \n",
       "mean     1.100702e+06    1.224996e+06  1.290820e-03    2.514687e-06  \n",
       "std      3.399180e+06    3.674129e+06  3.590480e-02    1.585775e-03  \n",
       "min      0.000000e+00    0.000000e+00  0.000000e+00    0.000000e+00  \n",
       "25%      0.000000e+00    0.000000e+00  0.000000e+00    0.000000e+00  \n",
       "50%      1.327057e+05    2.146614e+05  0.000000e+00    0.000000e+00  \n",
       "75%      9.430367e+05    1.111909e+06  0.000000e+00    0.000000e+00  \n",
       "max      3.560159e+08    3.561793e+08  1.000000e+00    1.000000e+00  "
      ]
     },
     "execution_count": 3,
     "metadata": {},
     "output_type": "execute_result"
    }
   ],
   "source": [
    "df.info()\n",
    "df.describe()"
   ]
  },
  {
   "cell_type": "markdown",
   "id": "f3d82cf4-83ec-4bfe-a3d7-97224bd13231",
   "metadata": {},
   "source": [
    "---"
   ]
  },
  {
   "cell_type": "markdown",
   "id": "98120161-a339-492d-bcf7-d7550bbb9369",
   "metadata": {},
   "source": [
    "\n",
    "1. **Data Volume**: Over 6.3 million transactions, providing a robust dataset for fraud analysis.\n",
    "  \n",
    "2. **Fraud Rarity**: Fraudulent transactions are rare (0.13%), highlighting a significant class imbalance.\n",
    "\n",
    "3. **Transaction Types**: Multiple transaction types (`PAYMENT`, `TRANSFER`, etc.) may impact fraud likelihood.\n",
    "\n",
    "4. **Transaction Amounts**: Wide range in transaction amounts (up to 92 million) with varying account balances, indicating diverse transaction patterns.\n",
    "\n",
    "5. **Flagged Transactions**: Very few transactions flagged as fraud, suggesting strict flagging criteria.\n",
    "\n",
    "6. **Zero Balances**: Many transactions with zero balances, potentially representing inactive accounts or unique transaction types.\n",
    "\n",
    "7. **Time Range**: The dataset covers around one month, with hourly intervals (`step` variable) from 1 to 743."
   ]
  },
  {
   "cell_type": "markdown",
   "id": "ad429fe3-1c42-4425-be5c-213097b2bd56",
   "metadata": {},
   "source": [
    "### 2.3 Data Quality Check\n",
    "#### 2.3.1 Missing Values\n",
    "Check for any missing values to ensure data completeness.\n",
    "\n",
    "#### 2.3.2 Duplicate Records\n",
    "Remove duplicate records to maintain data integrity.\n"
   ]
  },
  {
   "cell_type": "code",
   "execution_count": 5,
   "id": "f5d221f9-e49d-485f-90cd-f745bdfaba96",
   "metadata": {},
   "outputs": [
    {
     "name": "stdout",
     "output_type": "stream",
     "text": [
      "step              0\n",
      "type              0\n",
      "amount            0\n",
      "nameOrig          0\n",
      "oldbalanceOrg     0\n",
      "newbalanceOrig    0\n",
      "nameDest          0\n",
      "oldbalanceDest    0\n",
      "newbalanceDest    0\n",
      "isFraud           0\n",
      "isFlaggedFraud    0\n",
      "dtype: int64\n"
     ]
    }
   ],
   "source": [
    "# Check for missing values\n",
    "missing_values = df.isnull().sum()\n",
    "print(missing_values[missing_values >= 0])"
   ]
  },
  {
   "cell_type": "code",
   "execution_count": 11,
   "id": "8a0ef6fa-eb61-4d49-b355-6dd11d58c288",
   "metadata": {},
   "outputs": [],
   "source": [
    "df.drop_duplicates(inplace=True)"
   ]
  },
  {
   "cell_type": "code",
   "execution_count": 13,
   "id": "23b900ff-4e04-4028-a8a3-0742fb61ac1c",
   "metadata": {},
   "outputs": [
    {
     "data": {
      "text/plain": [
       "(6362620, 10)"
      ]
     },
     "execution_count": 13,
     "metadata": {},
     "output_type": "execute_result"
    }
   ],
   "source": [
    "df.shape"
   ]
  },
  {
   "cell_type": "markdown",
   "id": "13e3ae99-75bb-4582-ac04-c029b4daa2ed",
   "metadata": {},
   "source": [
    "# **Data Quality Insights**\r\n",
    "\r\n",
    "1. **No Missing Values**: All columns have complete data, ensuring dataset reliability.\r\n",
    "\r\n",
    "2. **No Duplicate Entries**: The dataset contains no duplicate records, maintaining data integrity.\r\n",
    "\r\n",
    "These points confirm that the data is clean and ready for analysis without requiring additional data cleaning steps.\r\n"
   ]
  },
  {
   "cell_type": "markdown",
   "id": "e0cfd95a-6817-44d0-88f3-f807da1bf86b",
   "metadata": {},
   "source": [
    "## **3. Exploratory Data Analysis (EDA)**\n",
    "\n",
    "### 3.1 Transaction Type Distribution\n",
    "Analyze the distribution of transaction types to understand the frequency of each type.\n",
    "\n",
    "### 3.2 Transaction Amount Analysis\n",
    "Examine the distribution of transaction amounts and identify any anomalies, especially with high-value transactions."
   ]
  },
  {
   "cell_type": "code",
   "execution_count": 7,
   "id": "e8d2b4cf-9695-41a0-a073-c6d98662a461",
   "metadata": {},
   "outputs": [
    {
     "data": {
      "text/plain": [
       "isFlaggedFraud\n",
       "0    6362604\n",
       "1         16\n",
       "Name: count, dtype: int64"
      ]
     },
     "execution_count": 7,
     "metadata": {},
     "output_type": "execute_result"
    }
   ],
   "source": [
    "df['isFlaggedFraud'].value_counts()"
   ]
  },
  {
   "cell_type": "code",
   "execution_count": 9,
   "id": "69a8ac81-8cd2-4772-973b-030e201a04fc",
   "metadata": {},
   "outputs": [],
   "source": [
    "df.drop(['isFlaggedFraud'], axis = 1 , inplace = True)"
   ]
  },
  {
   "cell_type": "markdown",
   "id": "df113b4b-e75c-4ddb-8565-7d984e6a615e",
   "metadata": {},
   "source": [
    "- **Distribution of Flagged Transactions**:\n",
    "  - **Not Flagged**: 6,362,604 transactions (99.9998%)\n",
    "  - **Flagged**: 16 transactions (0.0002%)\n",
    "\n",
    "- **Action Taken**: \n",
    "  - The `isFlaggedFraud` column has been dropped due to its negligible contribution to the analysis, given the extreme imbalance in the flagged transactions.\n",
    "\n",
    "This insight indicates that the flagging mechanism is rarely used and may not provide significant information for modeling fraud detection.\n"
   ]
  },
  {
   "cell_type": "markdown",
   "id": "de939cdb-b27d-4403-a4fc-6b5d438dd69e",
   "metadata": {},
   "source": [
    "### 3.3 Correlation Analysis\n",
    "#### 3.3.1 Correlation Matrix\n",
    "Compute the correlation matrix for numerical features to understand relationships between variables.\n"
   ]
  },
  {
   "cell_type": "code",
   "execution_count": 17,
   "id": "ecd9c57f-0d5b-43d4-99f4-d8def3968281",
   "metadata": {},
   "outputs": [],
   "source": [
    "import matplotlib.pyplot as plt\n",
    "import seaborn as sns"
   ]
  },
  {
   "cell_type": "code",
   "execution_count": 15,
   "id": "fc066a45-1545-4f22-bf1c-e5949a6fd60f",
   "metadata": {},
   "outputs": [
    {
     "name": "stdout",
     "output_type": "stream",
     "text": [
      "Num of Numerical Features : 7 ['step', 'amount', 'oldbalanceOrg', 'newbalanceOrig', 'oldbalanceDest', 'newbalanceDest', 'isFraud']\n",
      "Num of Categorical Features : 3 ['type', 'nameOrig', 'nameDest']\n",
      "Num of Discrete Features : 1 ['isFraud']\n",
      "Num of Continuous Features : 6 ['step', 'amount', 'oldbalanceOrg', 'newbalanceOrig', 'oldbalanceDest', 'newbalanceDest']\n"
     ]
    }
   ],
   "source": [
    "num_features = [feature for feature in df.columns if df[feature].dtype != 'O']\n",
    "print('Num of Numerical Features :', len(num_features) , num_features )\n",
    "cat_features = [feature for feature in df.columns if df[feature].dtype == 'O']\n",
    "print('Num of Categorical Features :', len(cat_features), cat_features)\n",
    "discrete_features=[feature for feature in num_features if len(df[feature].unique())<=25]\n",
    "print('Num of Discrete Features :',len(discrete_features) , discrete_features)\n",
    "continuous_features=[feature for feature in num_features if feature not in discrete_features]\n",
    "print('Num of Continuous Features :',len(continuous_features), continuous_features)"
   ]
  },
  {
   "cell_type": "code",
   "execution_count": 19,
   "id": "88fb08cf-2b6c-465f-992d-43e0f5be4242",
   "metadata": {},
   "outputs": [
    {
     "data": {
      "image/png": "[encoded data removed]",
      "text/plain": [
       "<Figure size 1200x1000 with 2 Axes>"
      ]
     },
     "metadata": {},
     "output_type": "display_data"
    }
   ],
   "source": [
    "# Select only numerical colum\n",
    "df_num= df.select_dtypes(include=['float64', 'int64'])\n",
    "corr = df_num.corr()\n",
    "plt.figure(figsize=(12, 10))\n",
    "sns.heatmap(corr, annot=True, cmap='coolwarm', fmt='.2f', linewidths=0.5)\n",
    "plt.show()"
   ]
  },
  {
   "cell_type": "code",
   "execution_count": 21,
   "id": "32deaf0f-1366-4a09-b5bf-cb774026f1f1",
   "metadata": {},
   "outputs": [],
   "source": [
    "def correlation(df_num, threshold):\n",
    "\t    col_corr = set()\n",
    "\t    corr_matrix = df_num.corr()\n",
    "\t    for i in range(len(corr_matrix.columns)):\n",
    "\t        for j in range(i):\n",
    "\t            if abs(corr_matrix.iloc[i, j]) > threshold: \n",
    "\t                colname = corr_matrix.columns[i]\n",
    "\t                col_corr.add(colname)\n",
    "\t    return col_corr"
   ]
  },
  {
   "cell_type": "code",
   "execution_count": 23,
   "id": "44715df1-3d44-4acb-9a7d-43d743aed26c",
   "metadata": {},
   "outputs": [
    {
     "data": {
      "text/plain": [
       "{'newbalanceDest', 'newbalanceOrig'}"
      ]
     },
     "execution_count": 23,
     "metadata": {},
     "output_type": "execute_result"
    }
   ],
   "source": [
    "corr_features=correlation(df_num,0.85)\n",
    "corr_features"
   ]
  },
  {
   "cell_type": "code",
   "execution_count": 25,
   "id": "467c806d-b352-4bde-a98b-002ed600e989",
   "metadata": {},
   "outputs": [],
   "source": [
    "df.drop(corr_features,axis=1,inplace=True)"
   ]
  },
  {
   "cell_type": "code",
   "execution_count": 27,
   "id": "5446df5d-2156-492d-9de1-ca956c7798d8",
   "metadata": {},
   "outputs": [
    {
     "data": {
      "text/html": [
       "<div>\n",
       "<style scoped>\n",
       "    .dataframe tbody tr th:only-of-type {\n",
       "        vertical-align: middle;\n",
       "    }\n",
       "\n",
       "    .dataframe tbody tr th {\n",
       "        vertical-align: top;\n",
       "    }\n",
       "\n",
       "    .dataframe thead th {\n",
       "        text-align: right;\n",
       "    }\n",
       "</style>\n",
       "<table border=\"1\" class=\"dataframe\">\n",
       "  <thead>\n",
       "    <tr style=\"text-align: right;\">\n",
       "      <th></th>\n",
       "      <th>step</th>\n",
       "      <th>type</th>\n",
       "      <th>amount</th>\n",
       "      <th>nameOrig</th>\n",
       "      <th>oldbalanceOrg</th>\n",
       "      <th>nameDest</th>\n",
       "      <th>oldbalanceDest</th>\n",
       "      <th>isFraud</th>\n",
       "    </tr>\n",
       "  </thead>\n",
       "  <tbody>\n",
       "    <tr>\n",
       "      <th>0</th>\n",
       "      <td>1</td>\n",
       "      <td>PAYMENT</td>\n",
       "      <td>9839.64</td>\n",
       "      <td>C1231006815</td>\n",
       "      <td>170136.0</td>\n",
       "      <td>M1979787155</td>\n",
       "      <td>0.0</td>\n",
       "      <td>0</td>\n",
       "    </tr>\n",
       "    <tr>\n",
       "      <th>1</th>\n",
       "      <td>1</td>\n",
       "      <td>PAYMENT</td>\n",
       "      <td>1864.28</td>\n",
       "      <td>C1666544295</td>\n",
       "      <td>21249.0</td>\n",
       "      <td>M2044282225</td>\n",
       "      <td>0.0</td>\n",
       "      <td>0</td>\n",
       "    </tr>\n",
       "    <tr>\n",
       "      <th>2</th>\n",
       "      <td>1</td>\n",
       "      <td>TRANSFER</td>\n",
       "      <td>181.00</td>\n",
       "      <td>C1305486145</td>\n",
       "      <td>181.0</td>\n",
       "      <td>C553264065</td>\n",
       "      <td>0.0</td>\n",
       "      <td>1</td>\n",
       "    </tr>\n",
       "    <tr>\n",
       "      <th>3</th>\n",
       "      <td>1</td>\n",
       "      <td>CASH_OUT</td>\n",
       "      <td>181.00</td>\n",
       "      <td>C840083671</td>\n",
       "      <td>181.0</td>\n",
       "      <td>C38997010</td>\n",
       "      <td>21182.0</td>\n",
       "      <td>1</td>\n",
       "    </tr>\n",
       "    <tr>\n",
       "      <th>4</th>\n",
       "      <td>1</td>\n",
       "      <td>PAYMENT</td>\n",
       "      <td>11668.14</td>\n",
       "      <td>C2048537720</td>\n",
       "      <td>41554.0</td>\n",
       "      <td>M1230701703</td>\n",
       "      <td>0.0</td>\n",
       "      <td>0</td>\n",
       "    </tr>\n",
       "  </tbody>\n",
       "</table>\n",
       "</div>"
      ],
      "text/plain": [
       "   step      type    amount     nameOrig  oldbalanceOrg     nameDest  \\\n",
       "0     1   PAYMENT   9839.64  C1231006815       170136.0  M1979787155   \n",
       "1     1   PAYMENT   1864.28  C1666544295        21249.0  M2044282225   \n",
       "2     1  TRANSFER    181.00  C1305486145          181.0   C553264065   \n",
       "3     1  CASH_OUT    181.00   C840083671          181.0    C38997010   \n",
       "4     1   PAYMENT  11668.14  C2048537720        41554.0  M1230701703   \n",
       "\n",
       "   oldbalanceDest  isFraud  \n",
       "0             0.0        0  \n",
       "1             0.0        0  \n",
       "2             0.0        1  \n",
       "3         21182.0        1  \n",
       "4             0.0        0  "
      ]
     },
     "execution_count": 27,
     "metadata": {},
     "output_type": "execute_result"
    }
   ],
   "source": [
    "df.head()"
   ]
  },
  {
   "cell_type": "markdown",
   "id": "e6e6acfb-2254-43e7-a0d5-c522625c0c28",
   "metadata": {},
   "source": [
    "### Insights \n",
    "\n",
    "- **Highly Correlated Features**:\n",
    "  - **Removed Features**: `newbalanceDest` and `newbalanceOrig` were identified as highly correlated (correlation > 0.85).\n",
    "\n",
    "- **Action Taken**: \n",
    "  - These features have been dropped to reduce multicollinearity and improve model performance.\n",
    "\n",
    "This decision helps streamline the dataset by retaining essential features while minimizing redundancy, which is crucial for effective model training."
   ]
  },
  {
   "cell_type": "markdown",
   "id": "1e6b71d3-bcdd-4f00-a4a4-a84e58e80ce5",
   "metadata": {},
   "source": [
    "### 4  **Step Count Analysis**ing process.\r\n",
    "\r",
    "ling process.\r\n",
    "ling process.\r\n",
    "ng process.\r\n",
    ".ing.\r\n",
    "ng.\r\n",
    "g.\r\n",
    "\n"
   ]
  },
  {
   "cell_type": "code",
   "execution_count": 29,
   "id": "fb4d08c4-6f25-4939-8cf6-db1a56b0245c",
   "metadata": {},
   "outputs": [
    {
     "data": {
      "text/plain": [
       "step\n",
       "19     51352\n",
       "18     49579\n",
       "187    49083\n",
       "235    47491\n",
       "307    46968\n",
       "       ...  \n",
       "432        4\n",
       "706        4\n",
       "693        4\n",
       "112        2\n",
       "662        2\n",
       "Name: count, Length: 743, dtype: int64"
      ]
     },
     "execution_count": 29,
     "metadata": {},
     "output_type": "execute_result"
    }
   ],
   "source": [
    "steps_count = df['step'].value_counts()\n",
    "steps_count"
   ]
  },
  {
   "cell_type": "code",
   "execution_count": 31,
   "id": "3a0d7dda-7881-47f5-93ed-df44c5472386",
   "metadata": {},
   "outputs": [
    {
     "data": {
      "text/plain": [
       "343"
      ]
     },
     "execution_count": 31,
     "metadata": {},
     "output_type": "execute_result"
    }
   ],
   "source": [
    "(df['step'].value_counts() > 1000).sum()"
   ]
  },
  {
   "cell_type": "code",
   "execution_count": 33,
   "id": "98e39627-4589-4729-8174-703bb6167beb",
   "metadata": {},
   "outputs": [],
   "source": [
    "df['step_above _5'] = df['step'].map(lambda x: 1 if steps_count[x] > 1000 else 0)"
   ]
  },
  {
   "cell_type": "code",
   "execution_count": 35,
   "id": "c7f1f3a0-e8b8-4c87-9618-b4dfb0ee5c16",
   "metadata": {},
   "outputs": [],
   "source": [
    "df.drop(['step'], inplace = True , axis=1)"
   ]
  },
  {
   "cell_type": "code",
   "execution_count": 37,
   "id": "d2136bbc-1da8-46f0-8280-03430d7fd8e1",
   "metadata": {},
   "outputs": [
    {
     "data": {
      "text/plain": [
       "nameOrig\n",
       "C1902386530    3\n",
       "C363736674     3\n",
       "C545315117     3\n",
       "C724452879     3\n",
       "C1784010646    3\n",
       "              ..\n",
       "C98968405      1\n",
       "C720209255     1\n",
       "C1567523029    1\n",
       "C644777639     1\n",
       "C1280323807    1\n",
       "Name: count, Length: 6353307, dtype: int64"
      ]
     },
     "execution_count": 37,
     "metadata": {},
     "output_type": "execute_result"
    }
   ],
   "source": [
    "df['nameOrig'].value_counts()"
   ]
  },
  {
   "cell_type": "code",
   "execution_count": 39,
   "id": "5abdfa74-734f-443f-b210-b851d974cb7f",
   "metadata": {},
   "outputs": [
    {
     "data": {
      "text/plain": [
       "6344009"
      ]
     },
     "execution_count": 39,
     "metadata": {},
     "output_type": "execute_result"
    }
   ],
   "source": [
    "(df['nameOrig'].value_counts() == 1).sum()"
   ]
  },
  {
   "cell_type": "code",
   "execution_count": 41,
   "id": "882966b4-4585-462c-a022-c4cfa72bada3",
   "metadata": {},
   "outputs": [],
   "source": [
    "df.drop(['nameOrig'], inplace = True , axis=1)"
   ]
  },
  {
   "cell_type": "code",
   "execution_count": 43,
   "id": "47739457-bd2a-4bcb-8098-cac5bd15e37a",
   "metadata": {},
   "outputs": [
    {
     "data": {
      "text/plain": [
       "nameDest\n",
       "C1286084959    113\n",
       "C985934102     109\n",
       "C665576141     105\n",
       "C2083562754    102\n",
       "C248609774     101\n",
       "              ... \n",
       "M1470027725      1\n",
       "M1330329251      1\n",
       "M1784358659      1\n",
       "M2081431099      1\n",
       "C2080388513      1\n",
       "Name: count, Length: 2722362, dtype: int64"
      ]
     },
     "execution_count": 43,
     "metadata": {},
     "output_type": "execute_result"
    }
   ],
   "source": [
    "nameDest_counts = df['nameDest'].value_counts()\n",
    "nameDest_counts"
   ]
  },
  {
   "cell_type": "code",
   "execution_count": 45,
   "id": "3d10c9fb-823f-44cf-ba4e-363cb5375667",
   "metadata": {},
   "outputs": [
    {
     "data": {
      "text/plain": [
       "243379"
      ]
     },
     "execution_count": 45,
     "metadata": {},
     "output_type": "execute_result"
    }
   ],
   "source": [
    "(df['nameDest'].value_counts() > 5).sum()"
   ]
  },
  {
   "cell_type": "code",
   "execution_count": 49,
   "id": "391f93a3-1e08-48c0-8a8d-6fa8531800a8",
   "metadata": {},
   "outputs": [],
   "source": [
    "# Step 2: Create a new feature based on counts >5\"\n",
    "df['nameDest_above_5'] = df['nameDest'].map(lambda x: 1 if nameDest_counts[x] > 5 else 0)"
   ]
  },
  {
   "cell_type": "code",
   "execution_count": 51,
   "id": "ccd8b253-b3de-4c91-acc9-ceee6e0c7bc1",
   "metadata": {},
   "outputs": [],
   "source": [
    "df.drop(['nameDest'], inplace = True , axis=1)"
   ]
  },
  {
   "cell_type": "markdown",
   "id": "fe651c72-61af-47a8-8122-e8dd3338054c",
   "metadata": {},
   "source": [
    "### Insights \r\n",
    "\r\n",
    "- **Step Count**: 343 steps have transactions exceeding 1000; added `step_above_5` (1 = Yes, 0 = No) and dropped the original `step` column.\r\n",
    "\r\n",
    "- **Customer Identification**: The dataset contains 6,353,307 unique originators and 2,722,362 unique destinations, with 243,379 destinations having more than 5 occurrences; the original `nameDest` column was removed due to its high uniqueness.\r\n",
    "\r\n",
    "- **Name Destination Feature**: Introduced `nameDest_above_5` (1 = Yes, 0 = No) and dropped the original `nameDest` column to enhance analysis.\r\n",
    "ysis.\r\n",
    "s.\r\n",
    "s.\r\n",
    "s.\r\n",
    "ing process.\r\n",
    "#ling process.\r\n"
   ]
  },
  {
   "cell_type": "code",
   "execution_count": 53,
   "id": "14510c35-f7b0-47d7-acf3-d56360067610",
   "metadata": {},
   "outputs": [
    {
     "data": {
      "text/plain": [
       "type\n",
       "CASH_OUT    2237500\n",
       "PAYMENT     2151495\n",
       "CASH_IN     1399284\n",
       "TRANSFER     532909\n",
       "DEBIT         41432\n",
       "Name: count, dtype: int64"
      ]
     },
     "execution_count": 53,
     "metadata": {},
     "output_type": "execute_result"
    }
   ],
   "source": [
    "df['type'].value_counts() "
   ]
  },
  {
   "cell_type": "markdown",
   "id": "baa779f6-e837-4075-8590-6270cea1c001",
   "metadata": {},
   "source": [
    "## 5. One-Hot Encoding of Transaction Types\n",
    "\n",
    "- **Transaction Type Distribution**:\n",
    "  - **CASH_OUT**: 2,237,500\n",
    "  - **PAYMENT**: 2,151,495\n",
    "  - **CASH_IN**: 1,399,284\n",
    "  - **TRANSFER**: 532,909\n",
    "  - **DEBIT**: 41,432\n",
    "\n",
    "- **Encoding Process**: \n",
    "  - Utilized `OneHotEncoder` from `sklearn.preprocessing` to convert the `type` column into multiple binary (0/1) columns, effectively representing the categorical variable without the risk of the dummy variable trap by dropping the first category.\n",
    "\n",
    "- **DataFrame Update**: \n",
    "  - The original `type` column has been removed, and the new one-hot encoded columns have been added to the DataFrame. Below is a preview of the updated DataFrame:\n",
    "  "
   ]
  },
  {
   "cell_type": "code",
   "execution_count": 55,
   "id": "44ba95fc-b48d-4e87-8926-e0a0b1426574",
   "metadata": {},
   "outputs": [],
   "source": [
    "from sklearn.preprocessing import OneHotEncoder\n",
    "from sklearn.compose import ColumnTransformer"
   ]
  },
  {
   "cell_type": "code",
   "execution_count": 57,
   "id": "c56a0a64-54b3-4a6b-8a8a-842ca5a66061",
   "metadata": {},
   "outputs": [],
   "source": [
    "# Create an instance of OneHotEncoder\n",
    "onehot_encoder = OneHotEncoder(drop='first',  sparse_output=False)  # drop='first' to avoid dummy variable trap\n",
    "\n",
    "# Transform the 'type' column using the OneHotEncoder\n",
    "X_encoded = onehot_encoder.fit_transform(df[['type']])"
   ]
  },
  {
   "cell_type": "code",
   "execution_count": 59,
   "id": "8bfdcba2-2fdf-490e-8ba1-273266a36e77",
   "metadata": {},
   "outputs": [],
   "source": [
    "# Transform the 'type' column using the OneHotEncoder\n",
    "X_encoded = onehot_encoder.fit_transform(df[['type']])\n",
    "\n",
    "# Convert the result back to a DataFrame\n",
    "encoded_df = pd.DataFrame(X_encoded, columns=onehot_encoder.get_feature_names_out(['type']))\n",
    "\n",
    "# Now, concatenate this with the original DataFrame, dropping the original 'type' column\n",
    "df = pd.concat([df.drop(columns=['type']), encoded_df], axis=1)"
   ]
  },
  {
   "cell_type": "code",
   "execution_count": 61,
   "id": "3d3340ad-4423-4a9a-872d-52750a93de60",
   "metadata": {},
   "outputs": [
    {
     "data": {
      "text/html": [
       "<div>\n",
       "<style scoped>\n",
       "    .dataframe tbody tr th:only-of-type {\n",
       "        vertical-align: middle;\n",
       "    }\n",
       "\n",
       "    .dataframe tbody tr th {\n",
       "        vertical-align: top;\n",
       "    }\n",
       "\n",
       "    .dataframe thead th {\n",
       "        text-align: right;\n",
       "    }\n",
       "</style>\n",
       "<table border=\"1\" class=\"dataframe\">\n",
       "  <thead>\n",
       "    <tr style=\"text-align: right;\">\n",
       "      <th></th>\n",
       "      <th>amount</th>\n",
       "      <th>oldbalanceOrg</th>\n",
       "      <th>oldbalanceDest</th>\n",
       "      <th>isFraud</th>\n",
       "      <th>step_above _5</th>\n",
       "      <th>nameDest_above_5</th>\n",
       "      <th>type_CASH_OUT</th>\n",
       "      <th>type_DEBIT</th>\n",
       "      <th>type_PAYMENT</th>\n",
       "      <th>type_TRANSFER</th>\n",
       "    </tr>\n",
       "  </thead>\n",
       "  <tbody>\n",
       "    <tr>\n",
       "      <th>0</th>\n",
       "      <td>9839.64</td>\n",
       "      <td>170136.0</td>\n",
       "      <td>0.0</td>\n",
       "      <td>0</td>\n",
       "      <td>1</td>\n",
       "      <td>0</td>\n",
       "      <td>0.0</td>\n",
       "      <td>0.0</td>\n",
       "      <td>1.0</td>\n",
       "      <td>0.0</td>\n",
       "    </tr>\n",
       "    <tr>\n",
       "      <th>1</th>\n",
       "      <td>1864.28</td>\n",
       "      <td>21249.0</td>\n",
       "      <td>0.0</td>\n",
       "      <td>0</td>\n",
       "      <td>1</td>\n",
       "      <td>0</td>\n",
       "      <td>0.0</td>\n",
       "      <td>0.0</td>\n",
       "      <td>1.0</td>\n",
       "      <td>0.0</td>\n",
       "    </tr>\n",
       "    <tr>\n",
       "      <th>2</th>\n",
       "      <td>181.00</td>\n",
       "      <td>181.0</td>\n",
       "      <td>0.0</td>\n",
       "      <td>1</td>\n",
       "      <td>1</td>\n",
       "      <td>1</td>\n",
       "      <td>0.0</td>\n",
       "      <td>0.0</td>\n",
       "      <td>0.0</td>\n",
       "      <td>1.0</td>\n",
       "    </tr>\n",
       "    <tr>\n",
       "      <th>3</th>\n",
       "      <td>181.00</td>\n",
       "      <td>181.0</td>\n",
       "      <td>21182.0</td>\n",
       "      <td>1</td>\n",
       "      <td>1</td>\n",
       "      <td>1</td>\n",
       "      <td>1.0</td>\n",
       "      <td>0.0</td>\n",
       "      <td>0.0</td>\n",
       "      <td>0.0</td>\n",
       "    </tr>\n",
       "    <tr>\n",
       "      <th>4</th>\n",
       "      <td>11668.14</td>\n",
       "      <td>41554.0</td>\n",
       "      <td>0.0</td>\n",
       "      <td>0</td>\n",
       "      <td>1</td>\n",
       "      <td>0</td>\n",
       "      <td>0.0</td>\n",
       "      <td>0.0</td>\n",
       "      <td>1.0</td>\n",
       "      <td>0.0</td>\n",
       "    </tr>\n",
       "  </tbody>\n",
       "</table>\n",
       "</div>"
      ],
      "text/plain": [
       "     amount  oldbalanceOrg  oldbalanceDest  isFraud  step_above _5  \\\n",
       "0   9839.64       170136.0             0.0        0              1   \n",
       "1   1864.28        21249.0             0.0        0              1   \n",
       "2    181.00          181.0             0.0        1              1   \n",
       "3    181.00          181.0         21182.0        1              1   \n",
       "4  11668.14        41554.0             0.0        0              1   \n",
       "\n",
       "   nameDest_above_5  type_CASH_OUT  type_DEBIT  type_PAYMENT  type_TRANSFER  \n",
       "0                 0            0.0         0.0           1.0            0.0  \n",
       "1                 0            0.0         0.0           1.0            0.0  \n",
       "2                 1            0.0         0.0           0.0            1.0  \n",
       "3                 1            1.0         0.0           0.0            0.0  \n",
       "4                 0            0.0         0.0           1.0            0.0  "
      ]
     },
     "execution_count": 61,
     "metadata": {},
     "output_type": "execute_result"
    }
   ],
   "source": [
    "df.head()"
   ]
  },
  {
   "cell_type": "markdown",
   "id": "b0297cd3-74d7-45fc-9ae8-41fb99bf403c",
   "metadata": {},
   "source": [
    "## 5.1 Feature Scaling with StandardScaler\n",
    "\n",
    "- **Columns to Scale**:\n",
    "  - **Amount**: The transaction amount.\n",
    "  - **Old Balance Origin**: The balance of the originating account before the transaction.\n",
    "  - **Old Balance Destination**: The balance of the destination account before the transaction.\n",
    "\n",
    "- **Scaling Process**: \n",
    "  - Used `StandardScaler` from `sklearn.preprocessing` to standardize the selected columns, ensuring each feature has a mean of 0 and a standard deviation of 1.\n",
    "  - This transformation helps in normalizing the data, making it more suitable for algorithms that rely on distance calculations, such as k-nearest neighbors or support vector machines.\n",
    "\n",
    "- **Data Transformation**: \n",
    "  - The selected columns have been transformed, and the standardized values have been updated in the DataFrame.\n"
   ]
  },
  {
   "cell_type": "code",
   "execution_count": 63,
   "id": "a38e677a-ec8f-4bd5-b88b-f6e427ac3fff",
   "metadata": {},
   "outputs": [],
   "source": [
    "from sklearn.preprocessing import StandardScaler"
   ]
  },
  {
   "cell_type": "code",
   "execution_count": 65,
   "id": "44b45c53-0937-4e2f-a90f-169ab00f079e",
   "metadata": {},
   "outputs": [],
   "source": [
    "columns_to_scale = ['amount', 'oldbalanceOrg', 'oldbalanceDest']\n",
    "\n",
    "# Create an instance of StandardScaler\n",
    "scaler = StandardScaler()\n",
    "\n",
    "# Fit the scaler on the selected columns and transform them\n",
    "df[columns_to_scale] = scaler.fit_transform(df[columns_to_scale])"
   ]
  },
  {
   "cell_type": "code",
   "execution_count": 67,
   "id": "283e65c1-e7b3-48c3-b901-7e7ced4e6694",
   "metadata": {},
   "outputs": [
    {
     "data": {
      "text/html": [
       "<div>\n",
       "<style scoped>\n",
       "    .dataframe tbody tr th:only-of-type {\n",
       "        vertical-align: middle;\n",
       "    }\n",
       "\n",
       "    .dataframe tbody tr th {\n",
       "        vertical-align: top;\n",
       "    }\n",
       "\n",
       "    .dataframe thead th {\n",
       "        text-align: right;\n",
       "    }\n",
       "</style>\n",
       "<table border=\"1\" class=\"dataframe\">\n",
       "  <thead>\n",
       "    <tr style=\"text-align: right;\">\n",
       "      <th></th>\n",
       "      <th>amount</th>\n",
       "      <th>oldbalanceOrg</th>\n",
       "      <th>oldbalanceDest</th>\n",
       "      <th>isFraud</th>\n",
       "      <th>step_above _5</th>\n",
       "      <th>nameDest_above_5</th>\n",
       "      <th>type_CASH_OUT</th>\n",
       "      <th>type_DEBIT</th>\n",
       "      <th>type_PAYMENT</th>\n",
       "      <th>type_TRANSFER</th>\n",
       "    </tr>\n",
       "  </thead>\n",
       "  <tbody>\n",
       "    <tr>\n",
       "      <th>0</th>\n",
       "      <td>-0.281560</td>\n",
       "      <td>-0.229810</td>\n",
       "      <td>-0.323814</td>\n",
       "      <td>0</td>\n",
       "      <td>1</td>\n",
       "      <td>0</td>\n",
       "      <td>0.0</td>\n",
       "      <td>0.0</td>\n",
       "      <td>1.0</td>\n",
       "      <td>0.0</td>\n",
       "    </tr>\n",
       "    <tr>\n",
       "      <th>1</th>\n",
       "      <td>-0.294767</td>\n",
       "      <td>-0.281359</td>\n",
       "      <td>-0.323814</td>\n",
       "      <td>0</td>\n",
       "      <td>1</td>\n",
       "      <td>0</td>\n",
       "      <td>0.0</td>\n",
       "      <td>0.0</td>\n",
       "      <td>1.0</td>\n",
       "      <td>0.0</td>\n",
       "    </tr>\n",
       "    <tr>\n",
       "      <th>2</th>\n",
       "      <td>-0.297555</td>\n",
       "      <td>-0.288654</td>\n",
       "      <td>-0.323814</td>\n",
       "      <td>1</td>\n",
       "      <td>1</td>\n",
       "      <td>1</td>\n",
       "      <td>0.0</td>\n",
       "      <td>0.0</td>\n",
       "      <td>0.0</td>\n",
       "      <td>1.0</td>\n",
       "    </tr>\n",
       "    <tr>\n",
       "      <th>3</th>\n",
       "      <td>-0.297555</td>\n",
       "      <td>-0.288654</td>\n",
       "      <td>-0.317582</td>\n",
       "      <td>1</td>\n",
       "      <td>1</td>\n",
       "      <td>1</td>\n",
       "      <td>1.0</td>\n",
       "      <td>0.0</td>\n",
       "      <td>0.0</td>\n",
       "      <td>0.0</td>\n",
       "    </tr>\n",
       "    <tr>\n",
       "      <th>4</th>\n",
       "      <td>-0.278532</td>\n",
       "      <td>-0.274329</td>\n",
       "      <td>-0.323814</td>\n",
       "      <td>0</td>\n",
       "      <td>1</td>\n",
       "      <td>0</td>\n",
       "      <td>0.0</td>\n",
       "      <td>0.0</td>\n",
       "      <td>1.0</td>\n",
       "      <td>0.0</td>\n",
       "    </tr>\n",
       "  </tbody>\n",
       "</table>\n",
       "</div>"
      ],
      "text/plain": [
       "     amount  oldbalanceOrg  oldbalanceDest  isFraud  step_above _5  \\\n",
       "0 -0.281560      -0.229810       -0.323814        0              1   \n",
       "1 -0.294767      -0.281359       -0.323814        0              1   \n",
       "2 -0.297555      -0.288654       -0.323814        1              1   \n",
       "3 -0.297555      -0.288654       -0.317582        1              1   \n",
       "4 -0.278532      -0.274329       -0.323814        0              1   \n",
       "\n",
       "   nameDest_above_5  type_CASH_OUT  type_DEBIT  type_PAYMENT  type_TRANSFER  \n",
       "0                 0            0.0         0.0           1.0            0.0  \n",
       "1                 0            0.0         0.0           1.0            0.0  \n",
       "2                 1            0.0         0.0           0.0            1.0  \n",
       "3                 1            1.0         0.0           0.0            0.0  \n",
       "4                 0            0.0         0.0           1.0            0.0  "
      ]
     },
     "execution_count": 67,
     "metadata": {},
     "output_type": "execute_result"
    }
   ],
   "source": [
    "df.head()"
   ]
  },
  {
   "cell_type": "markdown",
   "id": "013af5c1-aa91-4355-90a7-d682b1a52bd0",
   "metadata": {},
   "source": [
    "##  Insights\n",
    "\n",
    "- **Scaled Features**: The features `amount`, `oldbalanceOrg`, and `oldbalanceDest` have been standardized, resulting in values centered around a mean of 0 with a unit variance.\n",
    "  \n",
    "- **Fraud Instances**: The `isFraud` column indicates whether a transaction is fraudulent (1) or not (0). In the sample, there are both fraudulent and non-fraudulent transactions.\n",
    "\n",
    "- **Step Feature**: The `step_above_5` indicates if the step count exceeds 5, with a binary representation (1 = Yes, 0 = No). Most entries in this sample indicate a step count above 5.\n",
    "\n",
    "- **Name Destination Feature**: The `nameDest_above_5` feature highlights transactions where the destination account appears more than 5 times, assisting in identifying frequent recipient accounts.\n",
    "\n",
    "- **Transaction Types**: The one-hot encoded transaction types (CASH_OUT, DEBIT, PAYMENT, TRANSFER) allow for effective categorization and analysis of different transaction behaviors in relation to fraud detection.\n",
    "\n"
   ]
  },
  {
   "cell_type": "code",
   "execution_count": 69,
   "id": "797b2994-af18-4a70-b9a5-a5c11912a85a",
   "metadata": {},
   "outputs": [
    {
     "data": {
      "text/plain": [
       "(6362620, 10)"
      ]
     },
     "execution_count": 69,
     "metadata": {},
     "output_type": "execute_result"
    }
   ],
   "source": [
    "df.shape"
   ]
  },
  {
   "cell_type": "markdown",
   "id": "af19a346-7b77-4aa8-a004-68eb3d6df1d8",
   "metadata": {},
   "source": [
    "## 6. Data Balancing for Fraud Detection\n",
    "\n",
    "- **Class Balancing**: To address the class imbalance, the dataset was balanced by including all fraudulent transactions and randomly sampling 9,000 non-fraudulent transactions. This ensures a more balanced dataset for training and evaluation.\n",
    "  \n",
    "- **Data Shuffling**: The combined dataset was shuffled to mix fraudulent and non-fraudulent transactions, reducing any potential ordering bias during model training.\n"
   ]
  },
  {
   "cell_type": "code",
   "execution_count": 73,
   "id": "97532418-fa6c-46c5-bc1f-a50e64f16673",
   "metadata": {},
   "outputs": [],
   "source": [
    "import pandas as pd\n",
    "\n",
    "# Assuming df is your original DataFrame\n",
    "# Separate the majority and minority classes\n",
    "fraudulent = df[df['isFraud'] == 1]\n",
    "non_fraudulent = df[df['isFraud'] == 0]\n",
    "\n",
    "# Number of fraudulent transactions\n",
    "num_fraudulent = len(fraudulent)\n",
    "\n",
    "num_non_fraudulent_to_sample = 9000\n",
    "\n",
    "# Sample from non-fraudulent transactions\n",
    "non_fraudulent_sample = non_fraudulent.sample(n=num_non_fraudulent_to_sample, random_state=42)\n",
    "\n",
    "# Combine the sampled non-fraudulent transactions with all fraudulent transactions\n",
    "balanced_df = pd.concat([fraudulent, non_fraudulent_sample])\n",
    "\n",
    "# Shuffle the data to mix fraudulent and non-fraudulent transactions\n",
    "df = balanced_df.sample(frac=1, random_state=42).reset_index(drop=True)"
   ]
  },
  {
   "cell_type": "code",
   "execution_count": 75,
   "id": "61ca72d1-e005-427d-a969-c96bb1a8672d",
   "metadata": {},
   "outputs": [
    {
     "data": {
      "text/html": [
       "<div>\n",
       "<style scoped>\n",
       "    .dataframe tbody tr th:only-of-type {\n",
       "        vertical-align: middle;\n",
       "    }\n",
       "\n",
       "    .dataframe tbody tr th {\n",
       "        vertical-align: top;\n",
       "    }\n",
       "\n",
       "    .dataframe thead th {\n",
       "        text-align: right;\n",
       "    }\n",
       "</style>\n",
       "<table border=\"1\" class=\"dataframe\">\n",
       "  <thead>\n",
       "    <tr style=\"text-align: right;\">\n",
       "      <th></th>\n",
       "      <th>amount</th>\n",
       "      <th>oldbalanceOrg</th>\n",
       "      <th>oldbalanceDest</th>\n",
       "      <th>isFraud</th>\n",
       "      <th>step_above _5</th>\n",
       "      <th>nameDest_above_5</th>\n",
       "      <th>type_CASH_OUT</th>\n",
       "      <th>type_DEBIT</th>\n",
       "      <th>type_PAYMENT</th>\n",
       "      <th>type_TRANSFER</th>\n",
       "    </tr>\n",
       "  </thead>\n",
       "  <tbody>\n",
       "    <tr>\n",
       "      <th>0</th>\n",
       "      <td>-0.293281</td>\n",
       "      <td>-0.279363</td>\n",
       "      <td>-0.323814</td>\n",
       "      <td>0</td>\n",
       "      <td>1</td>\n",
       "      <td>0</td>\n",
       "      <td>0.0</td>\n",
       "      <td>0.0</td>\n",
       "      <td>1.0</td>\n",
       "      <td>0.0</td>\n",
       "    </tr>\n",
       "    <tr>\n",
       "      <th>1</th>\n",
       "      <td>1.586037</td>\n",
       "      <td>0.105157</td>\n",
       "      <td>-0.293899</td>\n",
       "      <td>1</td>\n",
       "      <td>0</td>\n",
       "      <td>1</td>\n",
       "      <td>1.0</td>\n",
       "      <td>0.0</td>\n",
       "      <td>0.0</td>\n",
       "      <td>0.0</td>\n",
       "    </tr>\n",
       "    <tr>\n",
       "      <th>2</th>\n",
       "      <td>-0.141174</td>\n",
       "      <td>-0.255958</td>\n",
       "      <td>-0.323814</td>\n",
       "      <td>1</td>\n",
       "      <td>0</td>\n",
       "      <td>1</td>\n",
       "      <td>1.0</td>\n",
       "      <td>0.0</td>\n",
       "      <td>0.0</td>\n",
       "      <td>0.0</td>\n",
       "    </tr>\n",
       "    <tr>\n",
       "      <th>3</th>\n",
       "      <td>5.953245</td>\n",
       "      <td>1.018230</td>\n",
       "      <td>-0.148049</td>\n",
       "      <td>1</td>\n",
       "      <td>0</td>\n",
       "      <td>1</td>\n",
       "      <td>1.0</td>\n",
       "      <td>0.0</td>\n",
       "      <td>0.0</td>\n",
       "      <td>0.0</td>\n",
       "    </tr>\n",
       "    <tr>\n",
       "      <th>4</th>\n",
       "      <td>-0.175425</td>\n",
       "      <td>-0.263120</td>\n",
       "      <td>-0.323814</td>\n",
       "      <td>1</td>\n",
       "      <td>1</td>\n",
       "      <td>0</td>\n",
       "      <td>0.0</td>\n",
       "      <td>0.0</td>\n",
       "      <td>0.0</td>\n",
       "      <td>1.0</td>\n",
       "    </tr>\n",
       "  </tbody>\n",
       "</table>\n",
       "</div>"
      ],
      "text/plain": [
       "     amount  oldbalanceOrg  oldbalanceDest  isFraud  step_above _5  \\\n",
       "0 -0.293281      -0.279363       -0.323814        0              1   \n",
       "1  1.586037       0.105157       -0.293899        1              0   \n",
       "2 -0.141174      -0.255958       -0.323814        1              0   \n",
       "3  5.953245       1.018230       -0.148049        1              0   \n",
       "4 -0.175425      -0.263120       -0.323814        1              1   \n",
       "\n",
       "   nameDest_above_5  type_CASH_OUT  type_DEBIT  type_PAYMENT  type_TRANSFER  \n",
       "0                 0            0.0         0.0           1.0            0.0  \n",
       "1                 1            1.0         0.0           0.0            0.0  \n",
       "2                 1            1.0         0.0           0.0            0.0  \n",
       "3                 1            1.0         0.0           0.0            0.0  \n",
       "4                 0            0.0         0.0           0.0            1.0  "
      ]
     },
     "execution_count": 75,
     "metadata": {},
     "output_type": "execute_result"
    }
   ],
   "source": [
    "df.head()"
   ]
  },
  {
   "cell_type": "markdown",
   "id": "069918d6-8ff4-4b38-8f81-348145e87453",
   "metadata": {},
   "source": [
    "## 7.Model Preparation and Data Split\n",
    "\n",
    "- **Feature and Target Separation**: The dataset is separated into feature variables (`X`) and the target variable (`y`, indicating fraud status).\n",
    "\n",
    "- **Stratified Train-Test Split**: Data was split into training and test sets using a 70-30 ratio with stratified sampling to preserve class distribution, ensuring balanced representation of both fraud and non-fraud cases in both sets. This helps provide a fair evaluation of the model's performance.\n",
    "\n",
    "- **Models to Compare**: Selected algorithms include:\n",
    "    - **Random Forest Classifier**\n",
    "    - **Gradient Boosting Classifier**\n",
    "    - **Decision Tree Classifier**\n",
    "    - **Logistic Regression**\n",
    "\n",
    "These models were chosen for their diversity in approach and effectiveness in handling imbalanced and complex datasets.\n"
   ]
  },
  {
   "cell_type": "code",
   "execution_count": 77,
   "id": "3240974d-01a0-434a-aa5f-5c91479925dd",
   "metadata": {},
   "outputs": [
    {
     "data": {
      "text/plain": [
       "isFraud\n",
       "0    9000\n",
       "1    8213\n",
       "Name: count, dtype: int64"
      ]
     },
     "execution_count": 77,
     "metadata": {},
     "output_type": "execute_result"
    }
   ],
   "source": [
    "df['isFraud'].value_counts()"
   ]
  },
  {
   "cell_type": "code",
   "execution_count": 79,
   "id": "4fd178bd-334c-4dd7-a3ab-0a4078501d10",
   "metadata": {},
   "outputs": [
    {
     "data": {
      "text/plain": [
       "(17213, 10)"
      ]
     },
     "execution_count": 79,
     "metadata": {},
     "output_type": "execute_result"
    }
   ],
   "source": [
    "df.shape"
   ]
  },
  {
   "cell_type": "code",
   "execution_count": 81,
   "id": "5a96e3ee-9c3d-49de-b9e9-9d584f0a1603",
   "metadata": {},
   "outputs": [],
   "source": [
    "from sklearn.model_selection import train_test_split\n",
    "X = df.drop(['isFraud'], axis=1)\n",
    "y = df['isFraud']"
   ]
  },
  {
   "cell_type": "code",
   "execution_count": 83,
   "id": "05c794c1-d62f-4221-8675-3e08a6995821",
   "metadata": {},
   "outputs": [],
   "source": [
    "from sklearn.ensemble import RandomForestClassifier\n",
    "from sklearn.ensemble import GradientBoostingClassifier\n",
    "from sklearn.tree import DecisionTreeClassifier\n",
    "from sklearn.linear_model import LogisticRegression\n",
    "from sklearn.metrics import accuracy_score, classification_report,ConfusionMatrixDisplay, precision_score, recall_score, f1_score, roc_auc_score,roc_curve \n",
    "\n",
    "# Split the data using stratified sampling\n",
    "X_train, X_test, y_train, y_test = train_test_split(X, y, test_size=0.3,  random_state=42)"
   ]
  },
  {
   "cell_type": "code",
   "execution_count": 85,
   "id": "4157454c-3bd2-4229-98f2-0463417d702b",
   "metadata": {},
   "outputs": [
    {
     "data": {
      "text/plain": [
       "(12049, 9)"
      ]
     },
     "execution_count": 85,
     "metadata": {},
     "output_type": "execute_result"
    }
   ],
   "source": [
    "X_train.shape"
   ]
  },
  {
   "cell_type": "code",
   "execution_count": 87,
   "id": "cbe58d6a-2415-4037-8e9e-629db9c36d20",
   "metadata": {},
   "outputs": [
    {
     "data": {
      "text/plain": [
       "isFraud\n",
       "0    9000\n",
       "1    8213\n",
       "Name: count, dtype: int64"
      ]
     },
     "execution_count": 87,
     "metadata": {},
     "output_type": "execute_result"
    }
   ],
   "source": [
    "df['isFraud'].value_counts()"
   ]
  },
  {
   "cell_type": "markdown",
   "id": "0f711ac6-f584-4fcd-81ad-b1d2f5f83f70",
   "metadata": {},
   "source": [
    "## 7.1 Model Training and Performance Evaluation\n",
    "\n",
    "In this step, we trained and evaluated multiple classification models—Logistic Regression, Decision Tree, Random Forest, and Gradient Boosting—on both the training and test sets. Performance metrics include accuracy, F1 score, precision, recall, and ROC AUC score, providing insights into each model’s effectiveness in predicting fraudulent transactions.\n"
   ]
  },
  {
   "cell_type": "code",
   "execution_count": 89,
   "id": "55252090-4503-41da-bdf0-b9ff1b640457",
   "metadata": {},
   "outputs": [
    {
     "name": "stdout",
     "output_type": "stream",
     "text": [
      "Training Logistic Regression...\n",
      "Model performance for Logistic Regression on Training set\n",
      "- Accuracy: 0.8812349572578637\n",
      "- F1 score: 0.8811445776551408\n",
      "- Precision: 0.8813701270489289\n",
      "- Recall: 0.8812349572578637\n",
      "- ROC AUC Score: 0.8804296794106412\n",
      "----------------------------------\n",
      "Model performance for Logistic Regression on Test set\n",
      "- Accuracy: 0.87858249419055\n",
      "- F1 score: 0.8785466063857472\n",
      "- Precision: 0.8785588930917466\n",
      "- Recall: 0.87858249419055\n",
      "- ROC AUC Score: 0.8779963304407983\n",
      "=============================\n",
      "\n",
      "Training Decision Tree...\n",
      "Model performance for Decision Tree on Training set\n",
      "- Accuracy: 1.0\n",
      "- F1 score: 1.0\n",
      "- Precision: 1.0\n",
      "- Recall: 1.0\n",
      "- ROC AUC Score: 1.0\n",
      "----------------------------------\n",
      "Model performance for Decision Tree on Test set\n",
      "- Accuracy: 0.982571649883811\n",
      "- F1 score: 0.9825736309594104\n",
      "- Precision: 0.9825862458091097\n",
      "- Recall: 0.982571649883811\n",
      "- ROC AUC Score: 0.9826450904606501\n",
      "=============================\n",
      "\n",
      "Training Random Forest...\n",
      "Model performance for Random Forest on Training set\n",
      "- Accuracy: 1.0\n",
      "- F1 score: 1.0\n",
      "- Precision: 1.0\n",
      "- Recall: 1.0\n",
      "- ROC AUC Score: 1.0\n",
      "----------------------------------\n",
      "Model performance for Random Forest on Test set\n",
      "- Accuracy: 0.9848954298993029\n",
      "- F1 score: 0.9849003036190691\n",
      "- Precision: 0.9850119763963902\n",
      "- Recall: 0.9848954298993029\n",
      "- ROC AUC Score: 0.9852330320484862\n",
      "=============================\n",
      "\n",
      "Training Gradient Boost...\n",
      "Model performance for Gradient Boost on Training set\n",
      "- Accuracy: 0.9842310565192132\n",
      "- F1 score: 0.9842366684053896\n",
      "- Precision: 0.984478633464137\n",
      "- Recall: 0.9842310565192132\n",
      "- ROC AUC Score: 0.984677713251767\n",
      "----------------------------------\n",
      "Model performance for Gradient Boost on Test set\n",
      "- Accuracy: 0.9810224632068164\n",
      "- F1 score: 0.9810328012588733\n",
      "- Precision: 0.9814909541034589\n",
      "- Recall: 0.9810224632068164\n",
      "- ROC AUC Score: 0.9817469508068518\n",
      "=============================\n",
      "\n"
     ]
    }
   ],
   "source": [
    "# Models dictionary\n",
    "models = {\n",
    "    \"Logistic Regression\": LogisticRegression(),\n",
    "    \"Decision Tree\": DecisionTreeClassifier(),\n",
    "    \"Random Forest\": RandomForestClassifier(),\n",
    "    \"Gradient Boost\": GradientBoostingClassifier()\n",
    "}\n",
    "\n",
    "# Train and evaluate each model\n",
    "for model_name, model in models.items():\n",
    "    print(f\"Training {model_name}...\")\n",
    "    model.fit(X_train, y_train)  # Train the model\n",
    "\n",
    "    # Predictions for training and test sets\n",
    "    y_train_pred = model.predict(X_train)\n",
    "    y_test_pred = model.predict(X_test)\n",
    "\n",
    "    # Training set performance\n",
    "    model_train_accuracy = accuracy_score(y_train, y_train_pred)\n",
    "    model_train_f1 = f1_score(y_train, y_train_pred, average='weighted')\n",
    "    model_train_precision = precision_score(y_train, y_train_pred, average='weighted')\n",
    "    model_train_recall = recall_score(y_train, y_train_pred, average='weighted')\n",
    "    \n",
    "    # Test set performance\n",
    "    model_test_accuracy = accuracy_score(y_test, y_test_pred)\n",
    "    model_test_f1 = f1_score(y_test, y_test_pred, average='weighted')\n",
    "    model_test_precision = precision_score(y_test, y_test_pred, average='weighted')\n",
    "    model_test_recall = recall_score(y_test, y_test_pred, average='weighted')\n",
    "\n",
    "    # For binary classification, use ROC AUC\n",
    "    try:\n",
    "        model_train_rocauc_score = roc_auc_score(y_train, y_train_pred)\n",
    "        model_test_rocauc_score = roc_auc_score(y_test, y_test_pred)\n",
    "    except ValueError:\n",
    "        model_train_rocauc_score = \"Not applicable for multiclass\"\n",
    "        model_test_rocauc_score = \"Not applicable for multiclass\"\n",
    "\n",
    "    # Display the results\n",
    "    print(f\"Model performance for {model_name} on Training set\")\n",
    "    print(f\"- Accuracy: {model_train_accuracy}\")\n",
    "    print(f\"- F1 score: {model_train_f1}\")\n",
    "    print(f\"- Precision: {model_train_precision}\")\n",
    "    print(f\"- Recall: {model_train_recall}\")\n",
    "    print(f\"- ROC AUC Score: {model_train_rocauc_score}\")\n",
    "    print(\"----------------------------------\")\n",
    "    print(f\"Model performance for {model_name} on Test set\")\n",
    "    print(f\"- Accuracy: {model_test_accuracy}\")\n",
    "    print(f\"- F1 score: {model_test_f1}\")\n",
    "    print(f\"- Precision: {model_test_precision}\")\n",
    "    print(f\"- Recall: {model_test_recall}\")\n",
    "    print(f\"- ROC AUC Score: {model_test_rocauc_score}\")\n",
    "    print(\"=============================\\n\")\n"
   ]
  },
  {
   "cell_type": "markdown",
   "id": "4935c8f6-7cf9-4ecc-aef2-10c55efad67c",
   "metadata": {},
   "source": [
    "### Insights from Model Training and Evaluation\r\n",
    "\r\n",
    "- **Logistic Regression**: Achieved moderate accuracy (87.9%) on the test set with balanced precision, recall, and ROC AUC scores around 0.88, indicating stable but slightly lower performance than other models.\r\n",
    "  \r\n",
    "- **Decision Tree**: Overfitted on the training data with perfect scores (100%), but performed well on the test set with an accuracy of 98.3% and ROC AUC of 0.98, showing potential but risk of overfitting.\r\n",
    "\r\n",
    "- **Random Forest**: Provided high accuracy (98.5%) on the test set with balanced F1, precision, and recall scores, and a strong ROC AUC (0.985), making it one of the best-performing models without overfitting.\r\n",
    "\r\n",
    "- **Gradient Boosting**: Also performed strongly with a test accuracy of 98.1% and high ROC AUC of 0.98, offering robust predictive capability with slightly lower training accuracy compared to Random Forest.\r\n",
    "\r\n",
    "Overall, **Random Forest** and **Gradient Boosting** demonstrated the best balance of high accuracy and generalization on the test set, making them top choices for fraud detection in this dataset.\r\n"
   ]
  },
  {
   "cell_type": "markdown",
   "id": "d4138038-4a69-4667-ac01-9aff56c07806",
   "metadata": {},
   "source": [
    "## 7.2 Hyperparameter Tuning for Random Forest Model\n"
   ]
  },
  {
   "cell_type": "code",
   "execution_count": 91,
   "id": "af14f276-eb73-43c8-840d-73f038b9686c",
   "metadata": {},
   "outputs": [
    {
     "data": {
      "text/plain": [
       "{'max_depth': [5, 8, 15, None, 10],\n",
       " 'max_features': [5, 7, 'auto', 8],\n",
       " 'min_samples_split': [2, 8, 15, 20],\n",
       " 'n_estimators': [100, 200, 500, 1000]}"
      ]
     },
     "execution_count": 91,
     "metadata": {},
     "output_type": "execute_result"
    }
   ],
   "source": [
    "\n",
    "rf_params = {\"max_depth\": [5, 8, 15, None, 10],\n",
    "             \"max_features\": [5, 7, \"auto\", 8],\n",
    "             \"min_samples_split\": [2, 8, 15, 20],\n",
    "             \"n_estimators\": [100, 200, 500, 1000]}\n",
    "rf_params"
   ]
  },
  {
   "cell_type": "code",
   "execution_count": 93,
   "id": "37b6cac3-32ed-4348-a1a5-a8183ab443e1",
   "metadata": {},
   "outputs": [
    {
     "name": "stdout",
     "output_type": "stream",
     "text": [
      "Fitting 3 folds for each of 100 candidates, totalling 300 fits\n"
     ]
    },
    {
     "name": "stderr",
     "output_type": "stream",
     "text": [
      "C:\\Users\\Lenovo\\anaconda3\\Lib\\site-packages\\sklearn\\model_selection\\_validation.py:547: FitFailedWarning: \n",
      "60 fits failed out of a total of 300.\n",
      "The score on these train-test partitions for these parameters will be set to nan.\n",
      "If these failures are not expected, you can try to debug them by setting error_score='raise'.\n",
      "\n",
      "Below are more details about the failures:\n",
      "--------------------------------------------------------------------------------\n",
      "28 fits failed with the following error:\n",
      "Traceback (most recent call last):\n",
      "  File \"C:\\Users\\Lenovo\\anaconda3\\Lib\\site-packages\\sklearn\\model_selection\\_validation.py\", line 895, in _fit_and_score\n",
      "    estimator.fit(X_train, y_train, **fit_params)\n",
      "  File \"C:\\Users\\Lenovo\\anaconda3\\Lib\\site-packages\\sklearn\\base.py\", line 1467, in wrapper\n",
      "    estimator._validate_params()\n",
      "  File \"C:\\Users\\Lenovo\\anaconda3\\Lib\\site-packages\\sklearn\\base.py\", line 666, in _validate_params\n",
      "    validate_parameter_constraints(\n",
      "  File \"C:\\Users\\Lenovo\\anaconda3\\Lib\\site-packages\\sklearn\\utils\\_param_validation.py\", line 95, in validate_parameter_constraints\n",
      "    raise InvalidParameterError(\n",
      "sklearn.utils._param_validation.InvalidParameterError: The 'max_features' parameter of RandomForestClassifier must be an int in the range [1, inf), a float in the range (0.0, 1.0], a str among {'sqrt', 'log2'} or None. Got 'auto' instead.\n",
      "\n",
      "--------------------------------------------------------------------------------\n",
      "32 fits failed with the following error:\n",
      "Traceback (most recent call last):\n",
      "  File \"C:\\Users\\Lenovo\\anaconda3\\Lib\\site-packages\\sklearn\\model_selection\\_validation.py\", line 895, in _fit_and_score\n",
      "    estimator.fit(X_train, y_train, **fit_params)\n",
      "  File \"C:\\Users\\Lenovo\\anaconda3\\Lib\\site-packages\\sklearn\\base.py\", line 1467, in wrapper\n",
      "    estimator._validate_params()\n",
      "  File \"C:\\Users\\Lenovo\\anaconda3\\Lib\\site-packages\\sklearn\\base.py\", line 666, in _validate_params\n",
      "    validate_parameter_constraints(\n",
      "  File \"C:\\Users\\Lenovo\\anaconda3\\Lib\\site-packages\\sklearn\\utils\\_param_validation.py\", line 95, in validate_parameter_constraints\n",
      "    raise InvalidParameterError(\n",
      "sklearn.utils._param_validation.InvalidParameterError: The 'max_features' parameter of RandomForestClassifier must be an int in the range [1, inf), a float in the range (0.0, 1.0], a str among {'log2', 'sqrt'} or None. Got 'auto' instead.\n",
      "\n",
      "  warnings.warn(some_fits_failed_message, FitFailedWarning)\n",
      "C:\\Users\\Lenovo\\anaconda3\\Lib\\site-packages\\sklearn\\model_selection\\_search.py:1051: UserWarning: One or more of the test scores are non-finite: [       nan        nan 0.95758963 0.98315245 0.97178207 0.97203111\n",
      " 0.98356751 0.95817068 0.98539332        nan        nan 0.98041388\n",
      " 0.9868872  0.98082878 0.98074586        nan        nan 0.98099472\n",
      "        nan 0.98099478 0.98074582 0.98033081 0.98472935 0.98522738\n",
      "        nan 0.98572536 0.953772          nan 0.98547634 0.9838994\n",
      " 0.95941562 0.97983278 0.95742373        nan 0.97418931 0.98489539\n",
      " 0.97551717 0.97991579 0.97394023 0.98638925 0.98398242 0.95833662\n",
      " 0.98149279 0.98489537 0.9809948  0.98506139 0.98497833 0.98514435\n",
      " 0.97418919 0.98572538 0.98157571 0.98497839 0.98207374 0.95684233\n",
      " 0.98489535 0.97261206 0.98356751        nan 0.98431442        nan\n",
      " 0.97269513 0.97551705 0.9838994  0.95858564 0.97062011 0.98705322\n",
      " 0.98057982 0.9872192         nan 0.98190774 0.97551725 0.97194809\n",
      " 0.98605722 0.98323549        nan        nan 0.98522742 0.98423142\n",
      " 0.98190771        nan 0.97427223 0.9818248  0.98721912 0.95227789\n",
      " 0.98381652 0.98340149 0.97286109 0.95659384 0.95526557 0.97991577\n",
      " 0.9809118  0.9859743         nan 0.95717485        nan 0.98622327\n",
      " 0.95758983 0.98165886        nan        nan]\n",
      "  warnings.warn(\n"
     ]
    },
    {
     "name": "stdout",
     "output_type": "stream",
     "text": [
      "---------------- Best Params for RF -------------------\n",
      "{'n_estimators': 500, 'min_samples_split': 8, 'max_features': 8, 'max_depth': None}\n"
     ]
    }
   ],
   "source": [
    "\trandomcv_models = [\n",
    "                   (\"RF\", RandomForestClassifier(), rf_params)\n",
    "                   \n",
    "                  ]\n",
    "\trandomcv_models\n",
    "\n",
    "\tfrom sklearn.model_selection import RandomizedSearchCV\n",
    "\t\n",
    "\tmodel_param = {}\n",
    "\tfor name, model, params in randomcv_models:\n",
    "    random = RandomizedSearchCV(estimator=model,\n",
    "                                  param_distributions=params,\n",
    "                               n_iter=100,\n",
    "                                cv=3,\n",
    "                                verbose=2,\n",
    "                                  n_jobs=-1)\n",
    "\n",
    "\t    random.fit(X_train, y_train)\n",
    "\t    model_param[name] = random.best_params_\n",
    "\t\n",
    "\tfor model_name in model_param:\n",
    "\t    print(f\"---------------- Best Params for {model_name} -------------------\")\n",
    "\t    print(model_param[model_name])"
   ]
  },
  {
   "cell_type": "markdown",
   "id": "91667fdf-93bd-4723-9f90-320c8b2b5893",
   "metadata": {},
   "source": [
    "## 7.3 Performance Analysis of Tuned Random Forest Classifier\n",
    "\n",
    "This section presents the evaluation metrics for the Random Forest Classifier after hyperparameter tuning. Metrics include accuracy, F1 score, precision, recall, and ROC AUC scores for both the training and test datasets, highlighting the model's effectiveness and generalization ability.\n"
   ]
  },
  {
   "cell_type": "code",
   "execution_count": 95,
   "id": "73d5a552-e272-47fd-b9f9-4db70d8b895d",
   "metadata": {},
   "outputs": [],
   "source": [
    "models={ \"Random Forest\":RandomForestClassifier(n_estimators=500,min_samples_split=8,max_features=8,max_depth=None)}"
   ]
  },
  {
   "cell_type": "code",
   "execution_count": 97,
   "id": "e371e7b5-3844-4aeb-9632-d35f5162a7ae",
   "metadata": {},
   "outputs": [],
   "source": [
    "for i in range(len(list(models))):\n",
    "    model = list(models.values())[i]\n",
    "    model.fit(X_train, y_train) # Train model"
   ]
  },
  {
   "cell_type": "code",
   "execution_count": 99,
   "id": "33363200-65c1-4fad-bee5-f9e5695cd16f",
   "metadata": {},
   "outputs": [],
   "source": [
    "y_train_pred = model.predict(X_train)\n",
    "y_test_pred = model.predict(X_test)"
   ]
  },
  {
   "cell_type": "code",
   "execution_count": 101,
   "id": "8b70f5dc-6dae-4e62-9927-23197205e61e",
   "metadata": {},
   "outputs": [],
   "source": [
    "\t# Training set performance\n",
    "\tmodel_train_accuracy = accuracy_score(y_train, y_train_pred) # Calculate Accuracy\n",
    "\tmodel_train_f1 = f1_score(y_train, y_train_pred, average='weighted') # Calculate F1-score\n",
    "\tmodel_train_precision = precision_score(y_train, y_train_pred) # Calculate Precision\n",
    "\tmodel_train_recall = recall_score(y_train, y_train_pred) # Calculate Recall\n",
    "\tmodel_train_rocauc_score = roc_auc_score(y_train, y_train_pred)\n",
    "\n",
    "\n",
    "\t# Test set performance\n",
    "\tmodel_test_accuracy = accuracy_score(y_test, y_test_pred) # Calculate Accuracy\n",
    "\tmodel_test_f1 = f1_score(y_test, y_test_pred, average='weighted') # Calculate F1-score\n",
    "\tmodel_test_precision = precision_score(y_test, y_test_pred) # Calculate Precision\n",
    "\tmodel_test_recall = recall_score(y_test, y_test_pred) # Calculate Recall\n",
    "\tmodel_test_rocauc_score = roc_auc_score(y_test, y_test_pred) #Calculate Roc"
   ]
  },
  {
   "cell_type": "code",
   "execution_count": 107,
   "id": "36956b23-b4cb-4236-aadc-3ff8972c636c",
   "metadata": {},
   "outputs": [
    {
     "name": "stdout",
     "output_type": "stream",
     "text": [
      "Random Forest\n",
      "Model performance for Training set\n",
      "- Accuracy: 0.9986\n",
      "- F1 score: 0.9986\n",
      "- Precision: 0.9976\n",
      "- Recall: 0.9995\n",
      "- Roc Auc Score: 0.9986\n",
      "----------------------------------\n",
      "Model performance for Test set\n",
      "- Accuracy: 0.9901\n",
      "- F1 score: 0.9901\n",
      "- Precision: 0.9815\n",
      "- Recall: 0.9980\n",
      "- Roc Auc Score: 0.9905\n",
      "===================================\n",
      "\n",
      "\n"
     ]
    }
   ],
   "source": [
    "print(list(models.keys())[i])\n",
    "print('Model performance for Training set')\n",
    "print(\"- Accuracy: {:.4f}\".format(model_train_accuracy))\n",
    "print('- F1 score: {:.4f}'.format(model_train_f1))\n",
    "\n",
    "print('- Precision: {:.4f}'.format(model_train_precision))\n",
    "print('- Recall: {:.4f}'.format(model_train_recall))\n",
    "print('- Roc Auc Score: {:.4f}'.format(model_train_rocauc_score))\n",
    "print('----------------------------------')\n",
    "    \n",
    "print('Model performance for Test set')\n",
    "print('- Accuracy: {:.4f}'.format(model_test_accuracy))\n",
    "print('- F1 score: {:.4f}'.format(model_test_f1))\n",
    "print('- Precision: {:.4f}'.format(model_test_precision))\n",
    "print('- Recall: {:.4f}'.format(model_test_recall))\n",
    "print('- Roc Auc Score: {:.4f}'.format(model_test_rocauc_score))\n",
    "\n",
    "    \n",
    "print('='*35)\n",
    "print('\\n')"
   ]
  },
  {
   "cell_type": "markdown",
   "id": "1b98a162-1f6b-405e-a76a-8153ee40e72f",
   "metadata": {},
   "source": [
    "# Random Forest Model Performance Insights\n",
    "\n",
    "The Random Forest model, fine-tuned with optimal hyperparameters, demonstrates high effectiveness in detecting fraudulent transactions. Below is a breakdown of its performance on both the training and test sets.\n",
    "\n",
    "---\n",
    "\n",
    "### Training Set\n",
    "- **Accuracy**: 99.86% - The model accurately classifies almost all training data.\n",
    "- **F1 Score**: 99.86% - High F1 score confirms the balance between precision and recall.\n",
    "- **Precision**: 99.76% - The model is effective in minimizing false positives, showing a strong performance in identifying true fraud cases.\n",
    "- **Recall**: 99.95% - A high recall indicates that the model successfully detects nearly all fraudulent transactions in the training data.\n",
    "- **ROC AUC Score**: 99.86% - Excellent separation between fraudulent and non-fraudulent classes, showcasing strong classification capability.\n",
    "\n",
    "---\n",
    "\n",
    "### Test Set\n",
    "- **Accuracy**: 99.01% - The model generalizes well, maintaining high accuracy on unseen data.\n",
    "- **F1 Score**: 99.01% - Confirms the model’s overall effectiveness in the real-world scenario.\n",
    "- **Precision**: 98.15% - Slightly lower than the training set, but still effective in identifying true positives with minimal false alarms.\n",
    "- **Recall**: 99.80% - Maintains a high recall, catching nearly all fraudulent cases in the test data.\n",
    "- **ROC AUC Score**: 99.05% - Indicates excellent classification reliability on the test set.\n",
    "\n",
    "---\n",
    "\n",
    "### Summary\n",
    "The Random Forest model’s performance on both training and test sets highlights its robustness and reliability. It strikes a fine balance between precision and recall, ensuring that fraudulent transactions are accurately detected without overfitting. This high level of performance positions the Random Forest model as a solid choice for effective fraud detection.\n"
   ]
  },
  {
   "cell_type": "markdown",
   "id": "8000d432-fab5-4c9b-8918-11ba052dc73c",
   "metadata": {},
   "source": [
    "# 8. Receiver Operating Characteristic (ROC) Curve\n",
    "\n",
    "The ROC curve visually demonstrates the performance of the **Random Forest Classifier** in distinguishing between fraudulent and non-fraudulent transactions. It plots the **True Positive Rate (Sensitivity)** against the **False Positive Rate (1 - Specificity)**, providing insight into the model's classification abilities across various thresholds.\n",
    "\n",
    "- **AUC (Area Under Curve)**: 0.9905, indicating a strong ability to distinguish between the two classes.\n",
    "- **Interpretation**: The closer the curve follows the left-hand border and then the top border of the ROC space, the more accurate the model is.\n",
    "\n",
    "This high AUC score reflects the model's robustness in handling fraud detection within this dataset.\n"
   ]
  },
  {
   "cell_type": "code",
   "execution_count": 109,
   "id": "4506d946-72ea-43d9-95d2-d32c739025c9",
   "metadata": {},
   "outputs": [
    {
     "data": {
      "text/plain": [
       "<Figure size 640x480 with 0 Axes>"
      ]
     },
     "execution_count": 109,
     "metadata": {},
     "output_type": "execute_result"
    },
    {
     "data": {
      "text/plain": [
       "<Figure size 640x480 with 0 Axes>"
      ]
     },
     "metadata": {},
     "output_type": "display_data"
    }
   ],
   "source": [
    "#Plot ROC AUC Curve\n",
    "from sklearn.metrics import roc_auc_score,roc_curve\n",
    "plt.figure()"
   ]
  },
  {
   "cell_type": "code",
   "execution_count": 122,
   "id": "fa08d5f1-c4dc-4799-a301-fe0c88810119",
   "metadata": {},
   "outputs": [],
   "source": [
    "# Add the models to the list that you want to view on the ROC plot\n",
    "auc_models = [\n",
    "\t{\n",
    "\t'label': 'Random Forest Classifier',\n",
    "\t'model': RandomForestClassifier(n_estimators=500,min_samples_split=8,\n",
    "\tmax_features=8,max_depth=None),'auc':   0.9905},]\n"
   ]
  },
  {
   "cell_type": "code",
   "execution_count": 124,
   "id": "6c2bfdc2-0970-4790-a7d8-f84c381ab0a2",
   "metadata": {},
   "outputs": [
    {
     "data": {
      "image/png": "[encoded data removed]",
      "text/plain": [
       "<Figure size 640x480 with 1 Axes>"
      ]
     },
     "metadata": {},
     "output_type": "display_data"
    }
   ],
   "source": [
    "# create loop through all model\n",
    "for algo in auc_models:\n",
    "    model = algo['model'] # select the model\n",
    "    model.fit(X_train, y_train) # train the model\n",
    "# Compute False postive rate, and True positive rate\n",
    "fpr, tpr, thresholds = roc_curve(y_test, model.predict_proba(X_test)[:,1])\n",
    "# Calculate Area under the curve to display on the plot\n",
    "plt.plot(fpr, tpr, label='%s ROC (area = %0.2f)' % (algo['label'], algo['auc']))\n",
    "# Custom settings for the plot \n",
    "plt.plot([0, 1], [0, 1],'r--')\n",
    "plt.xlim([0.0, 1.0])\n",
    "plt.ylim([0.0, 1.05])\n",
    "plt.xlabel('1-Specificity(False Positive Rate)')\n",
    "plt.ylabel('Sensitivity(True Positive Rate)')\n",
    "plt.title('Receiver Operating Characteristic')\n",
    "plt.legend(loc=\"lower right\")\n",
    "plt.savefig(\"auc.png\")\n",
    "plt.show()"
   ]
  },
  {
   "cell_type": "markdown",
   "id": "166f95f4-506c-47e1-8888-adb30636262a",
   "metadata": {},
   "source": [
    "# Fraud Detection Model Summary\n",
    "\n",
    "This project aimed to build a robust machine learning model to identify fraudulent transactions effectively. Through data preprocessing, feature scaling, and balanced sampling, we refined our dataset for optimal model performance. Multiple models were trained, and the **Random Forest Classifier** demonstrated the highest predictive power.\n",
    "\n",
    "### Key Results:\n",
    "- **Training Set**:\n",
    "  - **Accuracy**: 99.86%\n",
    "  - **F1 Score**: 99.86%\n",
    "  - **Precision**: 99.76%\n",
    "  - **Recall**: 99.95%\n",
    "  - **ROC AUC**: 99.86%\n",
    "- **Test Set**:\n",
    "  - **Accuracy**: 99.01%\n",
    "  - **F1 Score**: 99.01%\n",
    "  - **Precision**: 98.15%\n",
    "  - **Recall**: 99.80%\n",
    "  - **ROC AUC**: 99.05%\n",
    "\n",
    "### Insights:\n",
    "The **Random Forest Classifier** achieved a **99.01% accuracy** on the test set, with a high **ROC AUC of 99.05%**, indicating the model’s excellent capability to distinguish fraudulent from non-fraudulent transactions. This high performance makes it suitable for practical deployment in financial systems where accurate fraud detection is crucial.\n",
    "\n",
    "### Conclusion:\n",
    "The model has proven to be highly effective in detecting fraud, reducing potential financial risks. By tuning hyperparameters and employing balanced sampling, we achieved a reliable and accurate fraud detection model that can be integrated into real-world applications.\n"
   ]
  }
 ],
 "metadata": {
  "kernelspec": {
   "display_name": "Python (myenv)",
   "language": "python",
   "name": "myenv"
  },
  "language_info": {
   "codemirror_mode": {
    "name": "ipython",
    "version": 3
   },
   "file_extension": ".py",
   "mimetype": "text/x-python",
   "name": "python",
   "nbconvert_exporter": "python",
   "pygments_lexer": "ipython3",
   "version": "3.8.20"
  }
 },
 "nbformat": 4,
 "nbformat_minor": 5
}
